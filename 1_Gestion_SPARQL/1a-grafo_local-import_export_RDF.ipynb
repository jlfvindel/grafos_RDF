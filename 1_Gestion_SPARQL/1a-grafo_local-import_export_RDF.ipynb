{
 "cells": [
  {
   "cell_type": "markdown",
   "id": "2b688c10",
   "metadata": {},
   "source": [
    "[![Open in Colab](https://colab.research.google.com/assets/colab-badge.svg)](https://colab.research.google.com/github/jlfvindel/grafos_RDF/blob/main/1_Gestion_SPARQL/1a-grafo_local-import_export_RDF.ipynb)"
   ]
  },
  {
   "cell_type": "markdown",
   "id": "74d25c2e",
   "metadata": {},
   "source": [
    "# Grafos: importación/exportación RDF\n",
    "\n",
    "## Resumen del cuaderno\n",
    "1. **Creación de un grafo**: `g1 = rdflib.Graph()` crea un grafo en memoria al que se accede a través de la variable (p.ej, en este caso, `g1`). \n",
    "2. **Carga de tripletas RDF a un grafo**: `g1.parse(data=...,format=...)` lee cadenas de texto en cualquier formato RDF y `g1.parse(location=...,format=...)` lee directamente tripletas RDF almacenadas en un fichero o url.\n",
    "3. **Exportación de tripletas RDF desde un grafo**: `g1.serialize(format=...)` exporta tripletas del grafo `g1` a una cadena de texto RDF y `g1.serialize(destination=...,format=...)` escribe directamente las tripletas de `g1` en un fichero."
   ]
  },
  {
   "cell_type": "markdown",
   "id": "ab351568",
   "metadata": {},
   "source": [
    "## 1. Creación de un grafo rdflib\n",
    "Se crea un grafo vacío de tripletas. Esta instancia servirá como contenedor de un conjunto de 3-tuplas RDF: {(s1,p1,o1), (s2,p2,o2), ..., (sN,pN,oN)}. "
   ]
  },
  {
   "cell_type": "code",
   "execution_count": null,
   "id": "584086e4",
   "metadata": {},
   "outputs": [],
   "source": [
    "import rdflib\n",
    "\n",
    "g1 = rdflib.Graph()"
   ]
  },
  {
   "cell_type": "markdown",
   "id": "56a5c9b4",
   "metadata": {},
   "source": [
    "## 2. Carga/descarga de tripletas usando cadenas de texto RDF"
   ]
  },
  {
   "cell_type": "markdown",
   "id": "db0ad0ad",
   "metadata": {},
   "source": [
    "### 2.1 Tripletas cargadas desde un texto RDF\n",
    "**Formatos**. En este ejemplo, las tripletas se declaran en un texto en formato Turtle. Se podía haber partido desde un texto en cualquiera de los [formatos RDF](https://rdflib.readthedocs.io/en/stable/plugin_parsers.html)."
   ]
  },
  {
   "cell_type": "code",
   "execution_count": null,
   "id": "7ebe42f2",
   "metadata": {},
   "outputs": [],
   "source": [
    "# Provincias de Extremadura, con algunos de sus municipios\n",
    "\n",
    "txt1_turtle = '''\n",
    "@prefix ej: <http://uned.es/ejs/> .\n",
    "@prefix rdf: <http://www.w3.org/1999/02/22-rdf-syntax-ns#> .\n",
    "@prefix rdfs: <http://www.w3.org/2000/01/rdf-schema#> .\n",
    "\n",
    "ej:Comunidad rdf:type rdfs:Class .\n",
    "ej:Provincia rdf:type rdfs:Class .\n",
    "\n",
    "# Se declara Extremadura de tipo Comunidad y se enlaza con sus provincias\n",
    "ej:Extremadura ej:tiene_provincia ej:Caceres_prov , ej:Badajoz_prov ;\n",
    "               rdf:type ej:Comunidad .\n",
    "\n",
    "# Algunos municipios en las provincias de Extremadura\n",
    "ej:Caceres_prov ej:tiene_municipio ej:Caceres_munic , ej:Plasencia ;\n",
    "                rdf:type ej:Provincia .      \n",
    "ej:Badajoz_prov ej:tiene_municipio ej:Badajoz_munic , ej:Merida ;\n",
    "                rdf:type ej:Provincia .\n",
    "'''"
   ]
  },
  {
   "cell_type": "markdown",
   "id": "41703ef9",
   "metadata": {},
   "source": [
    "**Incorporación al grafo** de las tripletas declaradas en el texto `txt1_turtle`.  El método [parse](https://rdflib.readthedocs.io/en/stable/apidocs/rdflib.html#rdflib.graph.Graph.parse) permite precisar los datos que se van a analizar y el formato en que se encuentran: _g.parse(**data=**..., format=...)_."
   ]
  },
  {
   "cell_type": "code",
   "execution_count": null,
   "id": "e06648ea",
   "metadata": {},
   "outputs": [],
   "source": [
    "g1.parse(data=txt1_turtle, format=\"turtle\")\n",
    "\n",
    "print(f\"Ejecución. Hay un total de {len(g1)} tripletas en el grafo g1.\")"
   ]
  },
  {
   "cell_type": "markdown",
   "id": "76e90613",
   "metadata": {},
   "source": [
    "### 2.2 Tripletas exportadas a un texto RDF\n",
    "**Secuenciación e impresión** de las tripletas del grafo. Se puede escoger el formato RDF de salida."
   ]
  },
  {
   "cell_type": "code",
   "execution_count": null,
   "id": "4790ae4c",
   "metadata": {
    "lines_to_next_cell": 2
   },
   "outputs": [],
   "source": [
    "txt1_nt = g1.serialize(format='nt')\n",
    "\n",
    "print(\"Grafo en formato N-Triples:\")\n",
    "print(txt1_nt)"
   ]
  },
  {
   "cell_type": "markdown",
   "id": "1284f54b",
   "metadata": {},
   "source": [
    "## 3. Carga/descarga de tripletas usando ficheros\n",
    "En este caso las cadenas de texto en algún formato RDF se encuentran externamente en algún fichero.\n",
    "\n",
    "### 3.1 Descarga en ficheros\n",
    "Se almacena el contenido dle grafo `g1` en un fichero externo, escogiendo el formato RDF de secuenciación. Esta acción se puede ejecutar directamente desde `g1.serialize(destination=..., format=...)`. Tan sólo en caso de que la ruta contenga subdirectorios intermedios aún no existentes se puede requerir el uso previo de `os.makedirs`."
   ]
  },
  {
   "cell_type": "code",
   "execution_count": null,
   "id": "7cdaba63",
   "metadata": {},
   "outputs": [],
   "source": [
    "import os\n",
    "\n",
    "ruta1 = \"fichs/1a-comunid_prov_munic.jsonld\"\n",
    "\n",
    "# Crea todos los directorios intermedios si no existen:\n",
    "os.makedirs(os.path.dirname(ruta1), exist_ok=True)\n",
    "\n",
    "# Graba el fichero en la ruta especificada directamente desde el método serialize\n",
    "g1.serialize(destination=ruta1, format='json-ld')\n",
    "print(f\"Ejecución. Fichero en formato jsonld creado con las tripletas del grafo `g1`.\")"
   ]
  },
  {
   "cell_type": "markdown",
   "id": "ed8003cf",
   "metadata": {},
   "source": [
    "Procedimento alternativo: se usa el procedimiento general de apertura y escritura de ficheros. En este caso se ha escogido secuenciar la exportación del grafo en otro formato distinto (turtle)."
   ]
  },
  {
   "cell_type": "code",
   "execution_count": null,
   "id": "7ca79540",
   "metadata": {},
   "outputs": [],
   "source": [
    "ruta2 = \"fichs/1a-comunid_prov_munic.ttl\"\n",
    "\n",
    "# Crea todos los directorios intermedios si no existen:\n",
    "os.makedirs(os.path.dirname(ruta2), exist_ok=True)\n",
    "\n",
    "# Usa la escritura general de ficheros para grabar el contenido de g1 secuenciado como turtle\n",
    "with open(ruta2, \"w\", encoding=\"utf-8\") as f:\n",
    "    f.write(g1.serialize(format=\"turtle\"))"
   ]
  },
  {
   "cell_type": "markdown",
   "id": "147bdc28",
   "metadata": {},
   "source": [
    "### 3.2 Carga desde un fichero\n",
    "Se crea un nuevo grafo vacío `g2`y se carga con uno de los ficheros a los que se exportó el contenido de `g1`. De esta forma, `g2` contiene, de momento, las mismas ternas que `g1`."
   ]
  },
  {
   "cell_type": "code",
   "execution_count": null,
   "id": "a817b1b6",
   "metadata": {},
   "outputs": [],
   "source": [
    "g2 = rdflib.Graph()\n",
    "g2.parse(location='fichs/1a-comunid_prov_munic.jsonld', format='json-ld')\n",
    "print(f\"Ejecución. Nuevo grafo `g2`, cargado con las tripletas declaradas en el fichero jsonld en que salvó el grafo `g1`.\")"
   ]
  },
  {
   "cell_type": "code",
   "execution_count": null,
   "id": "d76a6c64",
   "metadata": {
    "lines_to_next_cell": 2
   },
   "outputs": [],
   "source": [
    "print(\"En este punto, los grafos `g1` y `g2` deberían contener las mismas tripletas:\")\n",
    "print(g2.serialize(format='nt'))"
   ]
  },
  {
   "cell_type": "markdown",
   "id": "f4de51c3",
   "metadata": {},
   "source": [
    "## 4. Cargas reiteradas sobre un mismo grafo\n",
    "\n",
    "Sobre un grafo con tripletas se puede repetir una carga adicional mediante `parse()`. En este punto hay que recordar que un grafo contiene *un conjunto* Python de tripletas, que no admite duplicidades. Por tanto, cargas reiteradas sobre un mismo grafo **tan sólo incorporan tripletas nuevas que no estuvieran ya en el grafo**.\n",
    "\n",
    "A continuación se declaran nuevas tripletas en un texto turtle que se van a incorporar al grafo `g2`. De este nuevo texto `txt2_turtle`,  la declaración de Comunidad como Clase y de Provincia como Clase ya aparecían identicamente expresadas en el texto RDF inicial `txt1_turtle`. No se duplicarán en `g2`."
   ]
  },
  {
   "cell_type": "code",
   "execution_count": null,
   "id": "c1356cfb",
   "metadata": {
    "lines_to_next_cell": 2
   },
   "outputs": [],
   "source": [
    "# Provincias de la Comunidad Valenciana, con algunos de sus municipios\n",
    "\n",
    "txt2_turtle = '''\n",
    "@prefix ej: <http://uned.es/ejs/> .\n",
    "@prefix rdf: <http://www.w3.org/1999/02/22-rdf-syntax-ns#> .\n",
    "@prefix rdfs: <http://www.w3.org/2000/01/rdf-schema#> .\n",
    "\n",
    "ej:Comunidad rdf:type rdfs:Class .\n",
    "ej:Provincia rdf:type rdfs:Class .\n",
    "\n",
    "# Provincias de la Comunidad Valenciana\n",
    "ej:Comunidad_Valenciana ej:tiene_provincia ej:Alicante_prov , ej:Valencia_prov , ej:Castellon_prov ;\n",
    "                        rdf:type ej:Comunidad .\n",
    "\n",
    "# Algunos municipios en las provincias de la Comunidad Valenciana\n",
    "ej:Alicante_prov ej:tiene_municipio ej:Alicante_munic , ej:Elche ;\n",
    "                 rdf:type ej:Provincia .\n",
    "ej:Valencia_prov ej:tiene_municipio ej:Valencia_munic , ej:Gandia ;\n",
    "                 rdf:type ej:Provincia .\n",
    "ej:Castellon_prov ej:tiene_municipio ej:Castellon_de_la_Plana , ej:Villareal ;\n",
    "                  rdf:type ej:Provincia .\n",
    "'''"
   ]
  },
  {
   "cell_type": "code",
   "execution_count": null,
   "id": "71ac094e",
   "metadata": {
    "lines_to_next_cell": 2
   },
   "outputs": [],
   "source": [
    "g2.parse(data=txt2_turtle, format=\"turtle\")\n",
    "\n",
    "print(f\"El grafo g1 mantiene un total de {len(g1)} tripletas.\")\n",
    "print(f\"El grafo g2, tras su ampliación, tiene un total de {len(g2)} tripletas.\")"
   ]
  },
  {
   "cell_type": "markdown",
   "id": "f863afe8",
   "metadata": {},
   "source": [
    "El grafo contiene las tripletas que ya tenía **más las nuevas** que se han incorporado."
   ]
  },
  {
   "cell_type": "code",
   "execution_count": null,
   "id": "dbafaa9d",
   "metadata": {
    "lines_to_next_cell": 2
   },
   "outputs": [],
   "source": [
    "# Se secuencia el grafo a formato Turtle y se imprime\n",
    "print(\"Grafo, ampliado, en formato Turtle:\")\n",
    "print(g2.serialize(format='turtle'))\n",
    "\n",
    "\n"
   ]
  }
 ],
 "metadata": {
  "jupytext": {
   "cell_metadata_filter": "-all",
   "main_language": "python",
   "notebook_metadata_filter": "-all"
  }
 },
 "nbformat": 4,
 "nbformat_minor": 5
}
