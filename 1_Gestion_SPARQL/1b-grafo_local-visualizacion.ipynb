{
 "cells": [
  {
   "cell_type": "markdown",
   "id": "14a77154",
   "metadata": {},
   "source": [
    "[![Open in Colab](https://colab.research.google.com/assets/colab-badge.svg)](https://colab.research.google.com/github/jlfvindel/grafos_RDF/blob/main/1_Gestion_SPARQL/1b-grafo_local-visualizacion.ipynb)"
   ]
  },
  {
   "cell_type": "markdown",
   "id": "9e6b3cf3",
   "metadata": {
    "lines_to_next_cell": 2
   },
   "source": [
    "# Grafos: visualización\n",
    "\n",
    "## Resumen del cuaderno \n",
    "1. **El lenguaje DOT** es un lenguaje genérico para declarar grafos (no sólo RDF) como se puede apreciar en su [Guía de usuario](https://www.graphviz.org/pdf/dotguide.pdf)\n",
    "2. **La aplicación Graphviz** es una aplicación de línea de comando que calcula la posición adecuada de los nodos de un grafo dot para visualizarlo o para exportarla a un fichero (en diversos formatos gráficos).\n",
    "3. **rdf2dot** es un funcion Python que genera una descripción en lenguaje DOT de un grafo rdflib en memoria. El grafo dot generado se puede visualizar o exportar a un fichero, escogiendo el formato gráfico.\n",
    "\n",
    "La visualización de grafos RDF permite seguir mejor la presentación ejemplos de procesamiento de estos grafos (para grafos RDF pequeños). Graphviz tan sólo facilita una visualización estática pero con un adecuado posicionamiento automático de nodos. Para grafos muy grandes convendrá utilizar aplicaciones interactivas que permiten navegar por el grafo: ocultar selectivamente nodos y enlaces, así como irlos mostrando puntualmente bajo demanda."
   ]
  },
  {
   "cell_type": "markdown",
   "id": "fbe5a769",
   "metadata": {},
   "source": [
    "## 1. Un primer grafo para visualizar"
   ]
  },
  {
   "cell_type": "code",
   "execution_count": null,
   "id": "02f9db8f",
   "metadata": {},
   "outputs": [],
   "source": [
    "!pip install rdflib"
   ]
  },
  {
   "cell_type": "code",
   "execution_count": null,
   "id": "d60a4746",
   "metadata": {},
   "outputs": [],
   "source": [
    "import rdflib\n",
    "g = rdflib.Graph()"
   ]
  },
  {
   "cell_type": "code",
   "execution_count": null,
   "id": "e61078d3",
   "metadata": {},
   "outputs": [],
   "source": [
    "txt1_turtle = '''\n",
    "@prefix ej: <http://uned.es/ejs/> .\n",
    "@prefix rdf: <http://www.w3.org/1999/02/22-rdf-syntax-ns#> .\n",
    "@prefix rdfs: <http://www.w3.org/2000/01/rdf-schema#> .\n",
    "\n",
    "ej:Comunidad rdf:type rdfs:Class .\n",
    "ej:Provincia rdf:type rdfs:Class .\n",
    "\n",
    "# Provincias de la Comunidad Valenciana\n",
    "ej:Comunidad_Valenciana ej:tiene_provincia ej:Alicante_prov , ej:Valencia_prov , ej:Castellon_prov ;\n",
    "                        rdf:type ej:Comunidad .\n",
    "\n",
    "# Algunos municipios en las provincias de la Comunidad Valenciana\n",
    "ej:Alicante_prov ej:tiene_municipio ej:Alicante_munic , ej:Elche ;\n",
    "                 rdf:type ej:Provincia .\n",
    "ej:Valencia_prov ej:tiene_municipio ej:Valencia_munic , ej:Gandia ;\n",
    "                 rdf:type ej:Provincia .\n",
    "ej:Castellon_prov ej:tiene_municipio ej:Castellon_de_la_Plana , ej:Villareal ;\n",
    "                  rdf:type ej:Provincia .\n",
    "'''"
   ]
  },
  {
   "cell_type": "code",
   "execution_count": null,
   "id": "7cc10526",
   "metadata": {},
   "outputs": [],
   "source": [
    "g.parse(data=txt1_turtle, format=\"turtle\")"
   ]
  },
  {
   "cell_type": "markdown",
   "id": "3ee347c5",
   "metadata": {},
   "source": [
    "## 2. Visualización con rdf2dot + graphviz\n",
    "El paquete graphviz de Python requiere que se encuentre instalada la aplicación [graphviz](https://www.graphviz.org/download/) en el sistema."
   ]
  },
  {
   "cell_type": "code",
   "execution_count": null,
   "id": "6d23688a",
   "metadata": {},
   "outputs": [],
   "source": [
    "from rdflib.tools.rdf2dot import rdf2dot\n",
    "from io import StringIO\n",
    "import graphviz"
   ]
  },
  {
   "cell_type": "markdown",
   "id": "a6212377",
   "metadata": {},
   "source": [
    "La función rdf2dot escribe las tripletas del grafo en el string en lenguaje dot (con ciertas opciones por defecto sobre el estilo de presentación)"
   ]
  },
  {
   "cell_type": "code",
   "execution_count": null,
   "id": "e1566ef2",
   "metadata": {},
   "outputs": [],
   "source": [
    "sio1 = StringIO()\n",
    "rdf2dot(g, sio1)\n",
    "dot_source1 = sio1.getvalue()"
   ]
  },
  {
   "cell_type": "markdown",
   "id": "63697d96",
   "metadata": {},
   "source": [
    "El grafo dot contiene declaraciones estructurales iniciales sobre nodos y enlaces, seguidas de declaraciones opcionales sobre estilo de presentación"
   ]
  },
  {
   "cell_type": "code",
   "execution_count": null,
   "id": "4456d316",
   "metadata": {
    "lines_to_next_cell": 2
   },
   "outputs": [],
   "source": [
    "print(dot_source1)"
   ]
  },
  {
   "cell_type": "markdown",
   "id": "720f0a00",
   "metadata": {},
   "source": [
    "Se construye una presentación a partir de la declaración del grafo en formato dot y se muestra directamente en el cuaderno Jupyter."
   ]
  },
  {
   "cell_type": "code",
   "execution_count": null,
   "id": "29c0e95e",
   "metadata": {},
   "outputs": [],
   "source": [
    "gv1 = graphviz.Source(dot_source1)\n",
    "gv1  "
   ]
  },
  {
   "cell_type": "markdown",
   "id": "a3457699",
   "metadata": {},
   "source": [
    "## 2. Grafo ampliado y revisualizado\n",
    "Se añaden nuevas tripletas al grafo inicial y se visualiza este grafo ampliado."
   ]
  },
  {
   "cell_type": "code",
   "execution_count": null,
   "id": "4c6d53aa",
   "metadata": {},
   "outputs": [],
   "source": [
    "txt2_turtle = '''\n",
    "@prefix ej: <http://uned.es/ejs/> .\n",
    "@prefix rdf: <http://www.w3.org/1999/02/22-rdf-syntax-ns#> .\n",
    "@prefix rdfs: <http://www.w3.org/2000/01/rdf-schema#> .\n",
    "\n",
    "ej:Comunidad rdf:type rdfs:Class .\n",
    "ej:Provincia rdf:type rdfs:Class .\n",
    "\n",
    "# Se declara Extremadura de tipo Comunidad y se enlaza con sus provincias\n",
    "ej:Extremadura ej:tiene_provincia ej:Caceres_prov , ej:Badajoz_prov ;\n",
    "               rdf:type ej:Comunidad .\n",
    "\n",
    "# Algunos municipios en las provincias de Extremadura\n",
    "ej:Caceres_prov ej:tiene_municipio ej:Caceres_munic , ej:Plasencia ;\n",
    "                rdf:type ej:Provincia .      \n",
    "ej:Badajoz_prov ej:tiene_municipio ej:Badajoz_munic , ej:Merida ;\n",
    "                rdf:type ej:Provincia .\n",
    "'''"
   ]
  },
  {
   "cell_type": "code",
   "execution_count": null,
   "id": "f99b67e9",
   "metadata": {},
   "outputs": [],
   "source": [
    "g.parse(data=txt2_turtle, format=\"turtle\")"
   ]
  },
  {
   "cell_type": "code",
   "execution_count": null,
   "id": "eb6f4604",
   "metadata": {
    "lines_to_next_cell": 2
   },
   "outputs": [],
   "source": [
    "sio2 = StringIO()\n",
    "rdf2dot(g, sio2)\n",
    "dot_source2 = sio2.getvalue()"
   ]
  },
  {
   "cell_type": "code",
   "execution_count": null,
   "id": "1bcb3306",
   "metadata": {},
   "outputs": [],
   "source": [
    "gv2 = graphviz.Source(dot_source2)\n",
    "gv2  "
   ]
  },
  {
   "cell_type": "markdown",
   "id": "c12ab7b8",
   "metadata": {},
   "source": [
    "## 3. Almacenamiento en ficheros y recuperación"
   ]
  },
  {
   "cell_type": "markdown",
   "id": "54a97b26",
   "metadata": {},
   "source": [
    "### 3.1 Ficheros gráficos\n",
    "La presentación producida se puede almacenar en un fichero escogiendo el formato gráfico (png, svg, etc)"
   ]
  },
  {
   "cell_type": "code",
   "execution_count": null,
   "id": "b88f0051",
   "metadata": {},
   "outputs": [],
   "source": [
    "camino_fich = gv2.render(filename='fichs/1b-visualizacion_grafo_rdf', format='svg', cleanup=True)\n",
    "print(f\"SVG guardado en: {camino_fich}\")"
   ]
  },
  {
   "cell_type": "markdown",
   "id": "2caaf078",
   "metadata": {},
   "source": [
    "Como ocurre con cualquier imagen, este fichero svg se puede visualizar en una celda Markdown como ésta mediante un enlace (descomentado) como `![Gráfico](fichs/1b-visualizacion_grafo_rdf.svg)`.\n",
    "Si lo que se desea es recuperarlo en una celda de código y visualizarlo, se puede utilizar la siguiente funcion:"
   ]
  },
  {
   "cell_type": "code",
   "execution_count": null,
   "id": "67a99a9d",
   "metadata": {},
   "outputs": [],
   "source": [
    "from IPython.display import SVG, display\n",
    "\n",
    "# Si el fichero está en el mismo directorio del notebook:\n",
    "display(SVG(filename='fichs/1b-visualizacion_grafo_rdf.svg'))"
   ]
  },
  {
   "cell_type": "markdown",
   "id": "38e11abd",
   "metadata": {},
   "source": [
    "### 3.2 Ficheros dot, para su gestión externa\n",
    "Los ficheros dot producidos por rdf2dot se pueden almacenar externamente como ficheros de texto (usualmente, con extension .dot). "
   ]
  },
  {
   "cell_type": "code",
   "execution_count": null,
   "id": "76604268",
   "metadata": {},
   "outputs": [],
   "source": [
    "with open(\"fichs/1b-grafo_rdf.dot\", \"w\", encoding=\"utf-8\") as f:\n",
    "    f.write(dot_source2)\n",
    "print(\"Fichero .dot guardado\")"
   ]
  },
  {
   "cell_type": "markdown",
   "id": "3dc95fc5",
   "metadata": {
    "lines_to_next_cell": 2
   },
   "source": [
    "Esto permite su recuperación desde cualquier cuaderno Jupyter para utilizar su contenido de nuevo en `graphviz.Source(contenido)`.\n",
    "Alternativamente, estos ficheros .dot se pueden convertir _externamente en un terminal_ a cualquier formato gráfico sin uso de Jupyter ni programación Python. Basta usar los comandos de la aplicación graphviz instalada en el sistema:\n",
    "\n",
    "`dot -Tsvg grafo.dot -o grafo.svg`\n",
    "\n",
    "`dot -Tpng grafo.dot -o grafo.png`\n",
    "\n"
   ]
  }
 ],
 "metadata": {
  "jupytext": {
   "cell_metadata_filter": "-all",
   "main_language": "python",
   "notebook_metadata_filter": "-all"
  }
 },
 "nbformat": 4,
 "nbformat_minor": 5
}
