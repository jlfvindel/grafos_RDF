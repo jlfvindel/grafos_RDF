{
 "cells": [
  {
   "cell_type": "markdown",
   "id": "137a3556",
   "metadata": {
    "lines_to_next_cell": 2
   },
   "source": [
    "# Consultas SPARQL SELECT a un grafo local\n",
    "\n",
    "## Resumen del cuaderno\n",
    "1. **En general: consulta SPARQL a un grafo rdflib**. Mediante `resp1= g1.query(consulta1)` se puede interrogar un grafo `g1` en memoria con una consulta SPARQL almacenada en la variable `consulta1`. Los resultados se almacenan en `resp1`.\n",
    "2. **Consulta SPARQL de tipo SELECT: devuelve una tabla de N-columnas**. La respuesta a una consulta `SELECT ?var1 var2 ... varN WHERE {...}` devuelve una tabla con 0 o más filas y con N columnas (una por cada varX)."
   ]
  },
  {
   "cell_type": "markdown",
   "id": "50fc6e8a",
   "metadata": {},
   "source": [
    "## 1. Declaración del grafo y de la consulta "
   ]
  },
  {
   "cell_type": "markdown",
   "id": "3cd522f0",
   "metadata": {},
   "source": [
    "### 1.1 Grafo consultado"
   ]
  },
  {
   "cell_type": "code",
   "execution_count": null,
   "id": "37e8d57b",
   "metadata": {},
   "outputs": [],
   "source": [
    "import rdflib\n",
    "\n",
    "g1 = rdflib.Graph()"
   ]
  },
  {
   "cell_type": "code",
   "execution_count": null,
   "id": "4ce4500b",
   "metadata": {},
   "outputs": [],
   "source": [
    "# Provincias de la Comunidad Valenciana, con algunos de sus municipios\n",
    "txt_turtle = '''\n",
    "@prefix ej: <http://uned.es/ejs/> .\n",
    "@prefix rdf: <http://www.w3.org/1999/02/22-rdf-syntax-ns#> .\n",
    "@prefix rdfs: <http://www.w3.org/2000/01/rdf-schema#> .\n",
    "\n",
    "ej:Comunidad rdf:type rdfs:Class .\n",
    "ej:Provincia rdf:type rdfs:Class .\n",
    "\n",
    "# Provincias de la Comunidad Valenciana\n",
    "ej:Comunidad_Valenciana ej:tiene_provincia ej:Alicante_prov , ej:Valencia_prov , ej:Castellon_prov ;\n",
    "                   rdf:type ej:Comunidad .\n",
    "\n",
    "# Algunos municipios en las provincias de la Comunidad Valenciana\n",
    "ej:Alicante_prov ej:tiene_municipio ej:Alicante_munic , ej:Elche ;\n",
    "                 rdf:type ej:Provincia .\n",
    "ej:Valencia_prov ej:tiene_municipio ej:Valencia_munic , ej:Gandia ;\n",
    "                 rdf:type ej:Provincia .\n",
    "ej:Castellon_prov ej:tiene_municipio ej:Castellon_de_la_Plana , ej:Villareal ;\n",
    "                  rdf:type ej:Provincia .\n",
    "'''"
   ]
  },
  {
   "cell_type": "code",
   "execution_count": null,
   "id": "9f52af8d",
   "metadata": {},
   "outputs": [],
   "source": [
    "g1.parse(data=txt_turtle, format='turtle')"
   ]
  },
  {
   "cell_type": "markdown",
   "id": "22836786",
   "metadata": {},
   "source": [
    "Visualización del grafo"
   ]
  },
  {
   "cell_type": "code",
   "execution_count": null,
   "id": "b948f904",
   "metadata": {},
   "outputs": [],
   "source": [
    "from rdflib.tools.rdf2dot import rdf2dot\n",
    "from io import StringIO\n",
    "import graphviz\n",
    "\n",
    "sio1 = StringIO()\n",
    "rdf2dot(g1, sio1)\n",
    "dot_source1 = sio1.getvalue()\n",
    "gv1 = graphviz.Source(dot_source1)\n",
    "gv1  "
   ]
  },
  {
   "cell_type": "markdown",
   "id": "ba54dc29",
   "metadata": {},
   "source": [
    "### 1.2 Consulta SPARQL SELECT\n",
    "\n",
    "**Patrón de consulta en WHERE**. Se puede resumir como `?comunid --tiene_provincia--> ?prov --tiene_municipio--> ?munic`. Una comunidad concreta tiene asignada una provincia concreta y ésta a su vez tiene asignado un municipio concreto. En el grafo anterior, una concordancia se encuentra para _(?comunid,?prov,?munic)=(Comunidad_Valenciana,Alicante_prov,Elche)_. Otra concordancia se encuentra en _(Comunidad_Valenciana,Alicante_prov,Alicante_munic)_.  \n",
    "\n",
    "**Tabla de concordancias del patron**. Hay un total de 6 concordancias encontradas y cada una es una 3-tupla porque aparecían 3 variables en el patrón de consulta. En general, para un patrón de consulta con N variables, se genera una tabla intermedia de resultados con N columnas. En este caso, donde aparecen 3 variables (?var) en el patrón de consulta, la tabla de concordancias se compone de 3-tuplas como las siguientes:\n",
    "\n",
    "| ?comunid | ?prov  |  ?munic |\n",
    "| :------: | :----: | :-----: |\n",
    "| ej:Comunidad_Valenciana | ej:Alicante_prov | ej:Elche |\n",
    "| ....... | ....... | ....... |"
   ]
  },
  {
   "cell_type": "code",
   "execution_count": null,
   "id": "b32683a0",
   "metadata": {},
   "outputs": [],
   "source": [
    "consulta1 = '''\n",
    "PREFIX ej: <http://uned.es/ejs/>\n",
    "\n",
    "SELECT ?munic ?comunid\n",
    "WHERE {\n",
    "  ?comunid ej:tiene_provincia ?prov .\n",
    "  ?prov ej:tiene_municipio ?munic .\n",
    "}\n",
    "'''"
   ]
  },
  {
   "cell_type": "markdown",
   "id": "68c8eb9a",
   "metadata": {},
   "source": [
    "**Tablas final de resultados devueltos por la consulta**. En `SELECT ?munic ?comunid` se indica que tan sólo se quieren esas dos columnas de las tres que presenta la tabla intermedia de resultados y además en ese orden. Es decir, una fila de la tabla de resultados finales puede ser *(Elche, Comunidad_Valenciana)* y otra podría ser *(Alicante_munic, Comunidad_Valenciana)*. Hay un total de 6 resultados finales y todos son 2-tuplas."
   ]
  },
  {
   "cell_type": "markdown",
   "id": "a5b64af3",
   "metadata": {},
   "source": [
    "### 1.3 Almacenamiento opcional de la consulta\n",
    "Es una buena práctica salvar las diversas consultas aplicables a un grafo en distintos ficheros, para ser utilizadas posteriormente sin tener que reescribirlas."
   ]
  },
  {
   "cell_type": "code",
   "execution_count": null,
   "id": "6b5bf8a1",
   "metadata": {},
   "outputs": [],
   "source": [
    "# En caso de que el subdirectorio fichs no existiera, lo crea.\n",
    "import os\n",
    "ruta_consulta1 = \"fichs/1c-munic_comunid.sparql\"\n",
    "os.makedirs(os.path.dirname(ruta_consulta1), exist_ok=True)\n",
    "\n",
    "# La pregunta se escribe como texto plano, preferiblemente en formato utf-8\n",
    "with open(ruta_consulta1, \"w\", encoding=\"utf-8\") as f:\n",
    "    f.write(consulta1)"
   ]
  },
  {
   "cell_type": "markdown",
   "id": "992361cf",
   "metadata": {},
   "source": [
    "## 2. Ejecución de la consulta \n",
    "La ejecución de esta `consulta1` sobre un grafo denominado `g` se ejecuta como sigue."
   ]
  },
  {
   "cell_type": "code",
   "execution_count": null,
   "id": "d3dffee5",
   "metadata": {},
   "outputs": [],
   "source": [
    "resp1 = g1.query(consulta1)"
   ]
  },
  {
   "cell_type": "markdown",
   "id": "6334d4f0",
   "metadata": {},
   "source": [
    "## 3. Estructura de la tabla resultante "
   ]
  },
  {
   "cell_type": "markdown",
   "id": "b6a5c65a",
   "metadata": {},
   "source": [
    "### 3.1 Cabecera de la tabla\n",
    "La variable `resp1` recoge en este caso un conjunto de seis 2-tuplas, con los valores de las diversas concordancias para `(?munic, ?comunid)`. Estas dos variables demandadas en SELECT se encuentran almacenadas en `resp1.vars`."
   ]
  },
  {
   "cell_type": "code",
   "execution_count": null,
   "id": "c024fa68",
   "metadata": {},
   "outputs": [],
   "source": [
    "print('Cabecera de la tabla: variables escogidas en la consulta SELECT en el mismo orden en que figuran en la consulta')    \n",
    "print(resp1.vars)"
   ]
  },
  {
   "cell_type": "markdown",
   "id": "7b2f1365",
   "metadata": {
    "lines_to_next_cell": 0
   },
   "source": [
    "### 3.2 Filas presentadas de forma autocontenida"
   ]
  },
  {
   "cell_type": "markdown",
   "id": "b1c727e5",
   "metadata": {},
   "source": [
    "**Filas devueltas por la consulta SELECT (en forma de diccionario)**. De esta tabla de 6 filas en dos columnas, el método `resp1.bindings` presenta cada fila en forma de diccionario: {?munic: valor_munic, ?comunid: valor_comunid}. Para imprimirlas de forma separada, se recorren una a una estas filas."
   ]
  },
  {
   "cell_type": "code",
   "execution_count": null,
   "id": "dbf53dc5",
   "metadata": {},
   "outputs": [],
   "source": [
    "print('Listado de respuestas de la consulta SELECT, en forma de diccionarios que describen cada fila:')\n",
    "for fila in resp1.bindings:\n",
    "    print(fila)"
   ]
  },
  {
   "cell_type": "markdown",
   "id": "682e28a7",
   "metadata": {
    "lines_to_next_cell": 0
   },
   "source": [
    "### 3.2 Filas presentadas respecto a cabeceras"
   ]
  },
  {
   "cell_type": "markdown",
   "id": "383c9931",
   "metadata": {},
   "source": [
    "\n",
    "**Filas devueltas por la consulta SELECT (en forma de tuplas)**. La siguiente impresión presenta las filas de la tabla como 2-tuplas, sin referencia a la cabecera de su respectiva columna. En este caso, el orden de estas tuplas es el mismo que el de la tupla de las cabeceras mostrado en `resp1.vars`."
   ]
  },
  {
   "cell_type": "code",
   "execution_count": null,
   "id": "73caadb4",
   "metadata": {},
   "outputs": [],
   "source": [
    "print('Listado de respuestas de la consulta SELECT, en forma de tuplas (con cabeceras implícitas respecto a resp.vars):')\n",
    "for fila in resp1:\n",
    "      print(fila)"
   ]
  },
  {
   "cell_type": "markdown",
   "id": "ae599981",
   "metadata": {},
   "source": [
    "## 4. Tabla resultante presentada mediante Pandas"
   ]
  },
  {
   "cell_type": "markdown",
   "id": "86d96d47",
   "metadata": {},
   "source": [
    "Pandas es el paquete más utilizado en Python para la presentación y análisis de datos tabulares."
   ]
  },
  {
   "cell_type": "code",
   "execution_count": null,
   "id": "c912d391",
   "metadata": {},
   "outputs": [],
   "source": [
    "import pandas as pd"
   ]
  },
  {
   "cell_type": "markdown",
   "id": "d955ea69",
   "metadata": {},
   "source": [
    "Una tabla Pandas es una instancia de DataFrame. Para inicializar esta instancia hay que facilitar la lista de literales de las cabeceras y la lista de las filas que contendrá, que en este ejemplo son respectivamente `resp.vars` y `resp`. "
   ]
  },
  {
   "cell_type": "code",
   "execution_count": null,
   "id": "0e32feeb",
   "metadata": {},
   "outputs": [],
   "source": [
    "cabeceras = resp1.vars\n",
    "rows = resp1\n",
    "\n",
    "df = pd.DataFrame(rows, columns=cabeceras)\n",
    "display(df)"
   ]
  },
  {
   "cell_type": "markdown",
   "id": "f8959133",
   "metadata": {},
   "source": [
    "### 4.1 Exportación del DataFrame\n",
    "Un DataFrame de Pandas es una tabla y se puede exportar en los diferentes formatos en que se almacenan datos tabulares (CSV, etc)."
   ]
  },
  {
   "cell_type": "code",
   "execution_count": null,
   "id": "c7f9bef5",
   "metadata": {},
   "outputs": [],
   "source": [
    "# 1. CSV\n",
    "df.to_csv('fichs/1c-sparql_select-resp1.csv', sep=';', encoding='utf-8', index=False)\n",
    "\n",
    "# 2. Excel\n",
    "df.to_excel('fichs/1c-sparql_select-resp1.xlsx', sheet_name='Resultados', index=False)\n",
    "\n",
    "# 3. JSON (una línea por registro)\n",
    "df.to_json('fichs/1c-sparql_select-resp1.json', orient='records', lines=True)"
   ]
  },
  {
   "cell_type": "markdown",
   "id": "827ae263",
   "metadata": {},
   "source": [
    "## 5. Ficheros con grafos y con consultas\n",
    "El grafo consultado se podia haber cargado desde un fichero así como la consulta aplicable al grafo. En esta seccion:\n",
    "1. Se rescata un fichero generado en otro cuaderno con las provincias de la Comunidad Valencia y de Extremadura y dos municipios por provincia.\n",
    "2. Se rescata el fichero donde se exportó la _'consulta1'_ en una nueva variable _'consulta2'_, como si no se hubiera declarado al inicio de este cuaderno y sólo se dispusiera de ella desde un fichero. "
   ]
  },
  {
   "cell_type": "markdown",
   "id": "ecb6e88b",
   "metadata": {},
   "source": [
    "### 5.1 Carga del grafo desde un fichero"
   ]
  },
  {
   "cell_type": "code",
   "execution_count": null,
   "id": "aa473f88",
   "metadata": {},
   "outputs": [],
   "source": [
    "ruta_grafo = \"fichs/1a-comunid_prov_munic.ttl\"\n",
    "g2 = rdflib.Graph()\n",
    "\n",
    "try:\n",
    "    # Antes de parsear, verificamos si el fichero RDF existe en disco\n",
    "    if not os.path.exists(ruta_grafo):\n",
    "        raise FileNotFoundError(f\"No se encontró el fichero en: {ruta_grafo}\")\n",
    "    \n",
    "    # Si existe, lo parseamos. Si se omite el formato en el método _parse_ trata de detectarlo por extensión o por contenido.\n",
    "    g2.parse(ruta_grafo, format=\"turtle\")\n",
    "    \n",
    "    print(f\"Grafo cargado correctamente. Contiene {len(g2)} tripletas.\")\n",
    "    print(g2.serialize(format=\"turtle\"))\n",
    "\n",
    "except FileNotFoundError as fnf:\n",
    "    print(f\"Error: {fnf}\")"
   ]
  },
  {
   "cell_type": "markdown",
   "id": "cae41b5e",
   "metadata": {},
   "source": [
    "### 5.2 Carga de la consulta desde un fichero"
   ]
  },
  {
   "cell_type": "code",
   "execution_count": null,
   "id": "e7c446bc",
   "metadata": {},
   "outputs": [],
   "source": [
    "ruta_consulta2 = \"fichs/1c-munic_comunid.sparql\"\n",
    "try:\n",
    "    if not os.path.exists(ruta_consulta2):\n",
    "        # Si la ruta no existe, lanzamos un error\n",
    "        raise FileNotFoundError(f\"No se encontró el fichero de consulta: {ruta_consulta2}\")\n",
    "    \n",
    "    # Si existe, lo abrimos y leemos todo su contenido\n",
    "    with open(ruta_consulta2, \"r\", encoding=\"utf-8\") as f:\n",
    "        consulta2 = f.read()\n",
    "    print(consulta2)    \n",
    "\n",
    "except FileNotFoundError as fnf:\n",
    "    print(f\"Error: {fnf}\")"
   ]
  },
  {
   "cell_type": "markdown",
   "id": "a852999c",
   "metadata": {},
   "source": [
    "### 5.3 Ejecución de la consulta sobre el grafo"
   ]
  },
  {
   "cell_type": "code",
   "execution_count": null,
   "id": "7ffbf1cc",
   "metadata": {},
   "outputs": [],
   "source": [
    "resp2 = g2.query(consulta2)"
   ]
  },
  {
   "cell_type": "code",
   "execution_count": null,
   "id": "d0ab2383",
   "metadata": {
    "lines_to_next_cell": 2
   },
   "outputs": [],
   "source": [
    "# Resultados, presentados en un DataFrame de Pandas\n",
    "df2 = pd.DataFrame(resp2, columns=resp2.vars)\n",
    "display(df)"
   ]
  }
 ],
 "metadata": {
  "jupytext": {
   "cell_metadata_filter": "-all",
   "main_language": "python",
   "notebook_metadata_filter": "-all"
  }
 },
 "nbformat": 4,
 "nbformat_minor": 5
}
