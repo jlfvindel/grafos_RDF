{
 "cells": [
  {
   "cell_type": "markdown",
   "id": "6965cef7",
   "metadata": {
    "lines_to_next_cell": 2
   },
   "source": [
    "# Consultas SPARQL CONSTRUCT a un grafo local"
   ]
  },
  {
   "cell_type": "markdown",
   "id": "435bedcb",
   "metadata": {},
   "source": [
    "## Resumen del cuaderno\n",
    "1. `grafo.query(consulta)`: el método _query_ se utiliza indistintamente para consultas SELECT o CONSTRUCT (y más adelante, para consultas UPDATE); tan sólo difiere internamente la redacción  SPARQL de la consulta.\n",
    "2. **Una consulta CONSTRUCT devuelve un grafo como resultado**. Conviene recordar que una consulta SELECT devolvía una tabla de resultados: varias filas sobre las mismas N-columnas."
   ]
  },
  {
   "cell_type": "markdown",
   "id": "fc51410d",
   "metadata": {},
   "source": [
    "## 1 Grafo consultado"
   ]
  },
  {
   "cell_type": "code",
   "execution_count": null,
   "id": "74eaa7dd",
   "metadata": {},
   "outputs": [],
   "source": [
    "import rdflib\n",
    "\n",
    "g_orig = rdflib.Graph()"
   ]
  },
  {
   "cell_type": "code",
   "execution_count": null,
   "id": "843eecd5",
   "metadata": {},
   "outputs": [],
   "source": [
    "txt_turtle = '''\n",
    "@prefix ej: <http://uned.es/ejs/> .\n",
    "@prefix rdf: <http://www.w3.org/1999/02/22-rdf-syntax-ns#> .\n",
    "@prefix rdfs: <http://www.w3.org/2000/01/rdf-schema#> .\n",
    "\n",
    "ej:Comunidad rdf:type rdfs:Class .\n",
    "ej:Provincia rdf:type rdfs:Class .\n",
    "\n",
    "# Se declara Extremadura de tipo Comunidad y se enlaza con sus provincias\n",
    "ej:Extremadura ej:tiene_provincia ej:Cáceres_prov , ej:Badajoz_prov ;\n",
    "               rdf:type ej:Comunidad .\n",
    "\n",
    "# Algunos municipios en las provincias de Extremadura\n",
    "ej:Cáceres_prov ej:tiene_municipio ej:Cáceres_munic , ej:Plasencia ;\n",
    "                rdf:type ej:Provincia .      \n",
    "ej:Badajoz_prov ej:tiene_municipio ej:Badajoz_munic , ej:Mérida ;\n",
    "                rdf:type ej:Provincia .\n",
    "'''\n",
    "\n",
    "g_orig.parse(data=txt_turtle, format=\"turtle\")"
   ]
  },
  {
   "cell_type": "code",
   "execution_count": null,
   "id": "b2ba036c",
   "metadata": {},
   "outputs": [],
   "source": [
    "from rdflib.tools.rdf2dot import rdf2dot\n",
    "from io import StringIO\n",
    "import graphviz"
   ]
  },
  {
   "cell_type": "markdown",
   "id": "6b629c76",
   "metadata": {},
   "source": [
    "Visualización del grafo consultado."
   ]
  },
  {
   "cell_type": "code",
   "execution_count": null,
   "id": "82aa0791",
   "metadata": {
    "lines_to_next_cell": 2
   },
   "outputs": [],
   "source": [
    "sio_orig = StringIO()\n",
    "rdf2dot(g_orig, sio_orig)\n",
    "dot_source_orig = sio_orig.getvalue()\n",
    "\n",
    "gv_orig = graphviz.Source(dot_source_orig)\n",
    "gv_orig "
   ]
  },
  {
   "cell_type": "markdown",
   "id": "0308f203",
   "metadata": {
    "lines_to_next_cell": 2
   },
   "source": [
    "## 2. Consulta CONSTRUCT\n",
    "Las consultas SELECT y CONSTRUCT tienen en común que hay un patrón de búsqueda en WHERE que produce una tabla intermedia de concordancias con N columnas (tantas como variables en el patrón) y filas _(?var1,...,?varN)=(valor1,...,valorN)_. En la siguiente consulta, cuando se aplica sobre el grafo anterior, una de esas concordancias es _(Extremadura, Badajoz_prov, Mérida)_.\n",
    "\n",
    "En las consultas SELECT, desde cada una de estas N-tuplas se produce la construcción de uno de los resultados finales (una M-tupla) siguiendo las instrucciones en SELECT. Usualmente estas suponen escoger sólo algunas columnas determinadas (M de N) de esa tabla intermedia, pero hay otras opciones utilizables."
   ]
  },
  {
   "cell_type": "code",
   "execution_count": null,
   "id": "c7cc8f99",
   "metadata": {},
   "outputs": [],
   "source": [
    "consulta1 = '''\n",
    "PREFIX ej: <http://uned.es/ejs/>\n",
    "PREFIX rdf: <http://www.w3.org/1999/02/22-rdf-syntax-ns#>\n",
    "PREFIX rdfs: <http://www.w3.org/2000/01/rdf-schema#>\n",
    "\n",
    "\n",
    "CONSTRUCT {\n",
    "   ej:Municipio rdf:type rdfs:Class .\n",
    "   \n",
    "   ?munic rdf:type ej:Municipio .  \n",
    "   ?munic ej:en_comunidad ?comunid .\n",
    "}\n",
    "WHERE {\n",
    "  ?comunid ej:tiene_provincia ?prov .\n",
    "  ?prov ej:tiene_municipio ?munic .\n",
    "}\n",
    "'''"
   ]
  },
  {
   "cell_type": "markdown",
   "id": "65edf83e",
   "metadata": {
    "lines_to_next_cell": 2
   },
   "source": [
    "**En estas consultas CONSTRUCT**, cada fila de la tabla intermedia de concordancias se utiliza para rellenar un patrón de grafo expresado en CONSTRUCT. En este ejemplo, los valores de la  fila _(?comunid, ?prov, ?munic)=(Extremadura, Badajoz_prov, Mérida)_ se utilizan para generar las siguientes tripletas del grafo resultante:\n",
    "\n",
    "```\n",
    "ej:Municipio rdf:type rdfs:Class .\n",
    "ej:Mérida rdf:type ej:Municipio .  \n",
    "ej:Mérida ej:en_comunidad ej:Extremadura .\n",
    "```\n",
    "Como el patrón en WHERE, en este ejemplo, genera una tabla de concordancias con 4 filas, el anterior conjunto de tripletas se repite 4 veces, para los respectivos valores de cada una de esas filas. El grafo resultante de la consulta resulta ser todo este conjunto de ternas incrementalmente creado. Conviene resaltar que la terna _(ej:Municipio, rdf:type, rdfs:Class_ se genera repetidamente para cada fila de la tabla de concordancias, pero una vez añadida al grafo resultante no se duplica."
   ]
  },
  {
   "cell_type": "markdown",
   "id": "36fb99c1",
   "metadata": {},
   "source": [
    "## 3. Ejecución y estructura de resultados"
   ]
  },
  {
   "cell_type": "code",
   "execution_count": null,
   "id": "dc164d0a",
   "metadata": {},
   "outputs": [],
   "source": [
    "resp1_const = g_orig.query(consulta1)"
   ]
  },
  {
   "cell_type": "markdown",
   "id": "3850f091",
   "metadata": {},
   "source": [
    "El método `.query` permite indistintamente ejecutar una consulta de tipo SELECT o CONSTRUCT. Y el resultado devuelto tiene la misma estructura en ambos casos: un conjunto de tuplas. El siguiente bucle devolvería, una a una, las tuplas de estos resultados, provengan de una consulta SELECT o CONSTRUCT"
   ]
  },
  {
   "cell_type": "code",
   "execution_count": null,
   "id": "5482dc78",
   "metadata": {},
   "outputs": [],
   "source": [
    "print(f\"resp1_const es un objeto de tipo {type(resp1_const)} con las siguientes tuplas:\")\n",
    "for resp in resp1_const:\n",
    "    print(resp)"
   ]
  },
  {
   "cell_type": "markdown",
   "id": "0fdabf36",
   "metadata": {},
   "source": [
    "En el caso de una consulta SELECT, estas tuplas pueden tener N componentes. Y en el caso de una consulta CONSTRUCT, los resultados siempre son 3-tuplas, tripletas. Por ello se pueden recorrer especificamente con el siguiente bucle sobre 'sujeto, predicado, objeto':"
   ]
  },
  {
   "cell_type": "code",
   "execution_count": null,
   "id": "8d533234",
   "metadata": {
    "lines_to_next_cell": 2
   },
   "outputs": [],
   "source": [
    "for s,p,o in resp1_const:\n",
    "    print(s,p,o)"
   ]
  },
  {
   "cell_type": "markdown",
   "id": "1e0f9a2e",
   "metadata": {},
   "source": [
    "## 4. Grafo resultante y visualización\n",
    "Los resultados obtenidos en `resp_const` son las tripletas del grafo resultante pero no se encuentran en una estructura reconocida en rdflib como un grafo sino en un iterador genérico de N-tuplas. El siguiente bucle va añadiendo a un nuevo grafo `g_const` una a una las tripletas (s,p,o) del resultado de las consulta CONSTRUCT:"
   ]
  },
  {
   "cell_type": "code",
   "execution_count": null,
   "id": "88ff7080",
   "metadata": {},
   "outputs": [],
   "source": [
    "g1_const = rdflib.Graph()\n",
    "for s,p,o in resp1_const:\n",
    "    g1_const.add((s,p,o))"
   ]
  },
  {
   "cell_type": "markdown",
   "id": "56da5a4d",
   "metadata": {},
   "source": [
    "Y este nuevo grafo (con los resultados) se puede visualizar con el siguiente procedimiento (o cualquier reescritura equivalente):"
   ]
  },
  {
   "cell_type": "code",
   "execution_count": null,
   "id": "f8655438",
   "metadata": {},
   "outputs": [],
   "source": [
    "sio1 = StringIO()\n",
    "rdf2dot(g1_const, sio1)\n",
    "dot_source1 = sio1.getvalue()\n",
    "\n",
    "gv1_const = graphviz.Source(dot_source1)\n",
    "gv1_const "
   ]
  },
  {
   "cell_type": "markdown",
   "id": "e457d6e1",
   "metadata": {},
   "source": [
    "## 5. Modificación del espacio de nombres\n",
    "El patrón del grafo que se desea, en `CONSTRUCT {...}`, puede directamente definir nuevos nodos y enlaces con espacios de nombres (prefijos) distintos al grafo consultado. O bien producirlos por alguna transformación sintática a partir de los originales."
   ]
  },
  {
   "cell_type": "code",
   "execution_count": null,
   "id": "a90d2b71",
   "metadata": {},
   "outputs": [],
   "source": [
    "consulta2 = '''\n",
    "PREFIX ej: <http://uned.es/ejs/>\n",
    "PREFIX otro: <http://otro.uned.es/ejs/>\n",
    "\n",
    "PREFIX rdf: <http://www.w3.org/1999/02/22-rdf-syntax-ns#>\n",
    "PREFIX rdfs: <http://www.w3.org/2000/01/rdf-schema#>\n",
    "\n",
    "\n",
    "CONSTRUCT {\n",
    "   otro:Municipio rdf:type rdfs:Class .\n",
    "   \n",
    "   ?munic rdf:type otro:Municipio .  \n",
    "   ?munic otro:en_comunidad ?comunid .\n",
    "}\n",
    "WHERE {\n",
    "  ?comunid ej:tiene_provincia ?prov .\n",
    "  ?prov ej:tiene_municipio ?munic .\n",
    "}\n",
    "'''"
   ]
  },
  {
   "cell_type": "code",
   "execution_count": null,
   "id": "7302320b",
   "metadata": {},
   "outputs": [],
   "source": [
    "resp2_const = g_orig.query(consulta2)\n",
    "\n",
    "g2_const = rdflib.Graph()\n",
    "for s,p,o in resp2_const:\n",
    "    g2_const.add((s,p,o))\n",
    "\n",
    "g2_const_turtle = g2_const.serialize(format=\"turtle\")\n",
    "print(g2_const_turtle)"
   ]
  },
  {
   "cell_type": "markdown",
   "id": "8376577b",
   "metadata": {},
   "source": [
    "En este segundo ejemplo el grafo resultante introduce nodos y enlaces nuevos como _'Municipio'_ o _'en_comunidad'_ y se ha escogido construir su URL con un prefijo distinto al usado en el grafo original. \n",
    "\n",
    "También es posible en el patrón en CONSTRUCT{...} aprovechar concordancias de municipio como _'http://uned.es/ejes/Mérida'_ para redefinir su URL resultante con otro prefijo. Este proceso de búsqueda y sustitución se produce en esta tercer consulta:"
   ]
  },
  {
   "cell_type": "code",
   "execution_count": null,
   "id": "746be82b",
   "metadata": {},
   "outputs": [],
   "source": [
    "consulta3 = '''\n",
    "PREFIX ej: <http://uned.es/ejs/>\n",
    "PREFIX nuevo: <http://nuevo.uned.es/ejs/>\n",
    "PREFIX rdf: <http://www.w3.org/1999/02/22-rdf-syntax-ns#>\n",
    "PREFIX rdfs: <http://www.w3.org/2000/01/rdf-schema#>\n",
    "\n",
    "CONSTRUCT {\n",
    "   nuevo:Municipio rdf:type rdfs:Class .\n",
    "   \n",
    "   ?munic_transf rdf:type nuevo:Municipio .  \n",
    "   ?munic_transf nuevo:en_comunidad ?comunid .\n",
    "}\n",
    "# El patrón WHERE devuelve una columna adicional ?munic_transf construida a partir de ?munic\n",
    "WHERE {\n",
    "  ?comunid ej:tiene_provincia ?prov .\n",
    "  ?prov ej:tiene_municipio ?munic .\n",
    "  \n",
    "  BIND( \n",
    "    IRI( \n",
    "      REPLACE( \n",
    "        STR(?munic),\n",
    "        \"^http://uned.es/ejs/\",\n",
    "        \"http://transformado.uned.es/ejs/\" \n",
    "      )\n",
    "    ) \n",
    "    AS ?munic_transf \n",
    "  ) .\n",
    "}\n",
    "'''"
   ]
  },
  {
   "cell_type": "markdown",
   "id": "b17d2bc7",
   "metadata": {},
   "source": [
    "Ejecución de la consulta3"
   ]
  },
  {
   "cell_type": "code",
   "execution_count": null,
   "id": "ccb79689",
   "metadata": {},
   "outputs": [],
   "source": [
    "resp3_const = g_orig.query(consulta3)"
   ]
  },
  {
   "cell_type": "markdown",
   "id": "6c971138",
   "metadata": {},
   "source": [
    "Impresión del grafo RDF resultante"
   ]
  },
  {
   "cell_type": "code",
   "execution_count": null,
   "id": "020ce7d6",
   "metadata": {},
   "outputs": [],
   "source": [
    "g3_const = rdflib.Graph()\n",
    "for s,p,o in resp3_const:\n",
    "    g3_const.add((s,p,o))\n",
    "    print(s,p,o)"
   ]
  },
  {
   "cell_type": "markdown",
   "id": "9636b98b",
   "metadata": {},
   "source": [
    "Visualización del grafo resultante"
   ]
  },
  {
   "cell_type": "code",
   "execution_count": null,
   "id": "10cebd18",
   "metadata": {},
   "outputs": [],
   "source": [
    "sio3 = StringIO()\n",
    "rdf2dot(g3_const, sio3)\n",
    "dot_source3 = sio3.getvalue()\n",
    "\n",
    "gv3_const = graphviz.Source(dot_source3)\n",
    "gv3_const "
   ]
  }
 ],
 "metadata": {
  "jupytext": {
   "cell_metadata_filter": "-all",
   "main_language": "python",
   "notebook_metadata_filter": "-all"
  }
 },
 "nbformat": 4,
 "nbformat_minor": 5
}
