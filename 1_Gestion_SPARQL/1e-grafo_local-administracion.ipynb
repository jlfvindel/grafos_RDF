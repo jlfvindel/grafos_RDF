{
 "cells": [
  {
   "cell_type": "markdown",
   "id": "2566f028",
   "metadata": {
    "lines_to_next_cell": 2
   },
   "source": [
    "# Gestión mediante SPARQL: borrado e inserción"
   ]
  },
  {
   "cell_type": "markdown",
   "id": "86424f57",
   "metadata": {},
   "source": [
    "## Resumen del cuaderno\n",
    "1. En SPARQL se pueden formular instrucciones de inserción de tripletas, de borrado de tripletas o combinadas de borrado/inserción.\n",
    "2. Este borrado o inserción puede ser absoluto (facilitando todos los componentes de la tripleta afectada) o bien se pueden ejecutar de forma relativa a partir de concordancias encontradas en un patrón de búsqueda WHERE.\n",
    "\n",
    "En el documento [SPARQL QUERY](https://www.w3.org/TR/sparql11-update/) se detalla el diseño de consultas SELECT y CONSTRUCT (además de consultas ASK y DESCRIBE, menos usadas). En el documento [SPARQL UPDATE](https://www.w3.org/TR/2013/REC-sparql11-query-20130321/) se detalla el diseño de patrones INSERT y DELETE."
   ]
  },
  {
   "cell_type": "markdown",
   "id": "1946f107",
   "metadata": {},
   "source": [
    "## 1 Grafo original"
   ]
  },
  {
   "cell_type": "code",
   "execution_count": null,
   "id": "18a34eb3",
   "metadata": {},
   "outputs": [],
   "source": [
    "import rdflib\n",
    "\n",
    "g = rdflib.Graph()"
   ]
  },
  {
   "cell_type": "code",
   "execution_count": null,
   "id": "2f786eac",
   "metadata": {},
   "outputs": [],
   "source": [
    "txt_turtle = '''\n",
    "@prefix ej: <http://uned.es/ejs/> .\n",
    "@prefix rdf: <http://www.w3.org/1999/02/22-rdf-syntax-ns#> .\n",
    "@prefix rdfs: <http://www.w3.org/2000/01/rdf-schema#> .\n",
    "\n",
    "ej:Comunidad rdf:type rdfs:Class .\n",
    "ej:Provincia rdf:type rdfs:Class .\n",
    "\n",
    "# Se declara Extremadura de tipo Comunidad y se enlaza con sus provincias\n",
    "ej:Extremadura ej:tiene_provincia ej:Cáceres_prov , ej:Badajoz_prov ;\n",
    "               rdf:type ej:Comunidad .\n",
    "\n",
    "# Algunos municipios en las provincias de Extremadura\n",
    "ej:Cáceres_prov ej:tiene_municipio ej:Cáceres_munic , ej:Plasencia ;\n",
    "                rdf:type ej:Provincia .      \n",
    "ej:Badajoz_prov ej:tiene_municipio ej:Badajoz_munic , ej:Mérida ;\n",
    "                rdf:type ej:Provincia .\n",
    "'''\n",
    "\n",
    "g.parse(data=txt_turtle, format=\"turtle\")"
   ]
  },
  {
   "cell_type": "code",
   "execution_count": null,
   "id": "5fa50141",
   "metadata": {
    "lines_to_next_cell": 1
   },
   "outputs": [],
   "source": [
    "from rdflib.tools.rdf2dot import rdf2dot\n",
    "from io import StringIO\n",
    "import graphviz"
   ]
  },
  {
   "cell_type": "markdown",
   "id": "87ad81a7",
   "metadata": {},
   "source": [
    "## 1.1 Visualización del grafo original\n",
    "Para facilitar sucesivas llamadas a este procedimiento, se define la siguiente función:"
   ]
  },
  {
   "cell_type": "code",
   "execution_count": null,
   "id": "38202fd1",
   "metadata": {
    "lines_to_next_cell": 1
   },
   "outputs": [],
   "source": [
    "def visualiza(grafo):\n",
    "    sio = StringIO()\n",
    "    rdf2dot(grafo,sio)\n",
    "    return (graphviz.Source(sio.getvalue()))"
   ]
  },
  {
   "cell_type": "code",
   "execution_count": null,
   "id": "019894fc",
   "metadata": {
    "lines_to_next_cell": 2
   },
   "outputs": [],
   "source": [
    "visualiza(g)"
   ]
  },
  {
   "cell_type": "markdown",
   "id": "bd02ecd7",
   "metadata": {},
   "source": [
    "## 2. Borrado e inserción\n",
    "### 2.1 Inserción directa de tripletas\n",
    "\n",
    "La inserción de una o más tripletas se produce como sigue. Conviene resaltar que ya no se usa el método `.query()` sino el método `.update()`."
   ]
  },
  {
   "cell_type": "code",
   "execution_count": null,
   "id": "d9d73404",
   "metadata": {},
   "outputs": [],
   "source": [
    "admin1 = \"\"\"\n",
    "PREFIX ej: <http://uned.es/ejs/> \n",
    "PREFIX rdf: <http://www.w3.org/1999/02/22-rdf-syntax-ns#> \n",
    "\n",
    "\n",
    "INSERT DATA {\n",
    "  ej:Cáceres_prov ej:tiene_municipio ej:Trujillo .\n",
    "  ej:Trujillo rdf:type ej:Municipio .\n",
    "}\n",
    "\"\"\""
   ]
  },
  {
   "cell_type": "code",
   "execution_count": null,
   "id": "7369a2a9",
   "metadata": {},
   "outputs": [],
   "source": [
    "g.update(admin1)\n",
    "visualiza(g)"
   ]
  },
  {
   "cell_type": "markdown",
   "id": "20c73744",
   "metadata": {},
   "source": [
    "### 2.2 Borrado directo de tripletas"
   ]
  },
  {
   "cell_type": "code",
   "execution_count": null,
   "id": "780a06c8",
   "metadata": {},
   "outputs": [],
   "source": [
    "admin2 = \"\"\"\n",
    "PREFIX ej: <http://uned.es/ejs/> \n",
    "PREFIX rdf: <http://www.w3.org/1999/02/22-rdf-syntax-ns#> \n",
    "\n",
    "\n",
    "DELETE DATA {\n",
    "  ej:Trujillo rdf:type ej:Municipio .\n",
    "}\n",
    "\"\"\""
   ]
  },
  {
   "cell_type": "code",
   "execution_count": null,
   "id": "8d7854ab",
   "metadata": {},
   "outputs": [],
   "source": [
    "g.update(admin2)\n",
    "visualiza(g)"
   ]
  },
  {
   "cell_type": "markdown",
   "id": "76886283",
   "metadata": {},
   "source": [
    "### 2.3 Borrado y/o inserción de tripletas localizadas\n",
    "En este punto, el patrón en WHERE encuentra 5 concordancias (tres pueblos de Cáceres_prov y dos de Badajoz_prov). Para cada una de estas concordancias _(?prov,?munic)_ se ejecuta el borrado en DELETE y la inserción en INSERT. Este esquema se puede usar sólo con inserción o sólo con borrado (omitiendo la otra instrucción)."
   ]
  },
  {
   "cell_type": "code",
   "execution_count": null,
   "id": "17e89645",
   "metadata": {},
   "outputs": [],
   "source": [
    "admin3 = \"\"\"\n",
    "PREFIX ej: <http://uned.es/ejs/> \n",
    "PREFIX rdf: <http://www.w3.org/1999/02/22-rdf-syntax-ns#> \n",
    "\n",
    "DELETE {\n",
    "  ?prov ej:tiene_municipio ?munic .\n",
    "}\n",
    "INSERT {\n",
    "  ?munic ej:en_provincia ?prov .\n",
    "  ?munic rdf:type ej:Municipio .\n",
    "}\n",
    "WHERE {\n",
    "  ?prov ej:tiene_municipio ?munic .\n",
    "}\n",
    "\"\"\""
   ]
  },
  {
   "cell_type": "code",
   "execution_count": null,
   "id": "e02e0115",
   "metadata": {},
   "outputs": [],
   "source": [
    "g.update(admin3)\n",
    "visualiza(g)"
   ]
  },
  {
   "cell_type": "markdown",
   "id": "123bcd9e",
   "metadata": {},
   "source": [
    "## 3. Sobre el uso de gestores de bases de datos RDF\n",
    "Todos los cuadernos de esta sección instancian grafos en memoria y los pueblan, consultan, exportan y administran a través de instrucciones SPARQL facilitadas a los métodos `.parse()`, `.query()`, `.serialize()` o `.update()`. De esta forma se puede gestionar una sencilla base de ternas RDF con permanencia basada en ficheros.\n",
    "\n",
    "Alternativamente hay gestores RDF con interfaz gráfico que simplifican mucho estas tareas de consulta y administración, así como la navegación filtrada y por pasos sobre la representación visual del grafo. [GraphDB](https://graphdb.ontotext.com/documentation/11.0/userroles.html#role-everyone) es uno de estos gestores y facilita un editor de instrucciones SPARQL ejecutable sobre el grafo seleccionado."
   ]
  }
 ],
 "metadata": {
  "jupytext": {
   "cell_metadata_filter": "-all",
   "main_language": "python",
   "notebook_metadata_filter": "-all"
  }
 },
 "nbformat": 4,
 "nbformat_minor": 5
}
